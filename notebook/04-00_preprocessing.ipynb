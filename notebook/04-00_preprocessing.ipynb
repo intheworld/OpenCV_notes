{
 "cells": [
  {
   "cell_type": "code",
<<<<<<< 935471a407c90d674fc0dde301001ff654516888
   "execution_count": 1,
=======
   "execution_count": 8,
>>>>>>> add data preprocessing
   "metadata": {},
   "outputs": [
    {
     "name": "stderr",
     "output_type": "stream",
     "text": [
<<<<<<< 935471a407c90d674fc0dde301001ff654516888
      "/home/swliu/anaconda3/lib/python3.7/site-packages/sklearn/utils/validation.py:475: DataConversionWarning: Data with input dtype int64 was converted to float64 by the scale function.\n",
      "  warnings.warn(msg, DataConversionWarning)\n"
=======
      "C:\\Users\\liushuwei\\Anaconda3\\envs\\python36\\lib\\site-packages\\sklearn\\utils\\validation.py:429: DataConversionWarning: Data with input dtype int32 was converted to float64 by the scale function.\n",
      "  warnings.warn(msg, _DataConversionWarning)\n"
>>>>>>> add data preprocessing
     ]
    },
    {
     "data": {
      "text/plain": [
       "array([[-0.26726124, -1.33630621,  1.22474487],\n",
       "       [ 1.33630621,  0.26726124,  0.        ],\n",
       "       [-1.06904497,  1.06904497, -1.22474487]])"
      ]
     },
<<<<<<< 935471a407c90d674fc0dde301001ff654516888
     "execution_count": 1,
=======
     "execution_count": 8,
>>>>>>> add data preprocessing
     "metadata": {},
     "output_type": "execute_result"
    }
   ],
   "source": [
    "from sklearn import preprocessing\n",
    "import numpy as np\n",
    "X = np.array([[1,-2,1],\n",
    "              [3, 0, 0],\n",
    "              [0,1,-1]])\n",
    "\n",
    "X_scaled = preprocessing.scale(X)\n",
    "X_scaled"
   ]
  },
  {
   "cell_type": "code",
<<<<<<< 935471a407c90d674fc0dde301001ff654516888
   "execution_count": 2,
=======
   "execution_count": 9,
>>>>>>> add data preprocessing
   "metadata": {},
   "outputs": [
    {
     "data": {
      "text/plain": [
       "array([7.40148683e-17, 0.00000000e+00, 0.00000000e+00])"
      ]
     },
<<<<<<< 935471a407c90d674fc0dde301001ff654516888
     "execution_count": 2,
=======
     "execution_count": 9,
>>>>>>> add data preprocessing
     "metadata": {},
     "output_type": "execute_result"
    }
   ],
   "source": [
    "X_scaled.mean(axis=0)"
   ]
  },
  {
   "cell_type": "code",
<<<<<<< 935471a407c90d674fc0dde301001ff654516888
   "execution_count": 3,
=======
   "execution_count": 10,
>>>>>>> add data preprocessing
   "metadata": {},
   "outputs": [
    {
     "data": {
      "text/plain": [
       "array([1., 1., 1.])"
      ]
     },
<<<<<<< 935471a407c90d674fc0dde301001ff654516888
     "execution_count": 3,
=======
     "execution_count": 10,
>>>>>>> add data preprocessing
     "metadata": {},
     "output_type": "execute_result"
    }
   ],
   "source": [
    "X_scaled.std(axis=0)"
   ]
  },
  {
   "cell_type": "code",
<<<<<<< 935471a407c90d674fc0dde301001ff654516888
   "execution_count": 4,
   "metadata": {},
   "outputs": [
    {
=======
   "execution_count": 11,
   "metadata": {},
   "outputs": [
    {
     "name": "stderr",
     "output_type": "stream",
     "text": [
      "C:\\Users\\liushuwei\\Anaconda3\\envs\\python36\\lib\\site-packages\\sklearn\\utils\\validation.py:429: DataConversionWarning: Data with input dtype int32 was converted to float64 by the normalize function.\n",
      "  warnings.warn(msg, _DataConversionWarning)\n"
     ]
    },
    {
>>>>>>> add data preprocessing
     "data": {
      "text/plain": [
       "array([[ 0.25, -0.5 ,  0.25],\n",
       "       [ 1.  ,  0.  ,  0.  ],\n",
       "       [ 0.  ,  0.5 , -0.5 ]])"
      ]
     },
<<<<<<< 935471a407c90d674fc0dde301001ff654516888
     "execution_count": 4,
=======
     "execution_count": 11,
>>>>>>> add data preprocessing
     "metadata": {},
     "output_type": "execute_result"
    }
   ],
   "source": [
    "X_normalized_l1 = preprocessing.normalize(X, norm='l1')\n",
    "X_normalized_l1"
   ]
  },
  {
   "cell_type": "code",
<<<<<<< 935471a407c90d674fc0dde301001ff654516888
   "execution_count": 5,
   "metadata": {},
   "outputs": [
    {
=======
   "execution_count": 12,
   "metadata": {},
   "outputs": [
    {
     "name": "stderr",
     "output_type": "stream",
     "text": [
      "C:\\Users\\liushuwei\\Anaconda3\\envs\\python36\\lib\\site-packages\\sklearn\\utils\\validation.py:429: DataConversionWarning: Data with input dtype int32 was converted to float64 by the normalize function.\n",
      "  warnings.warn(msg, _DataConversionWarning)\n"
     ]
    },
    {
>>>>>>> add data preprocessing
     "data": {
      "text/plain": [
       "array([[ 0.40824829, -0.81649658,  0.40824829],\n",
       "       [ 1.        ,  0.        ,  0.        ],\n",
       "       [ 0.        ,  0.70710678, -0.70710678]])"
      ]
     },
<<<<<<< 935471a407c90d674fc0dde301001ff654516888
     "execution_count": 5,
=======
     "execution_count": 12,
>>>>>>> add data preprocessing
     "metadata": {},
     "output_type": "execute_result"
    }
   ],
   "source": [
    "X_normalized_l2 = preprocessing.normalize(X, norm='l2')\n",
    "X_normalized_l2"
   ]
  },
  {
   "cell_type": "markdown",
   "metadata": {},
   "source": [
    "scaling features to a range"
   ]
  },
  {
   "cell_type": "code",
<<<<<<< 935471a407c90d674fc0dde301001ff654516888
   "execution_count": 7,
=======
   "execution_count": 13,
>>>>>>> add data preprocessing
   "metadata": {},
   "outputs": [
    {
     "name": "stderr",
     "output_type": "stream",
     "text": [
<<<<<<< 935471a407c90d674fc0dde301001ff654516888
      "/home/swliu/anaconda3/lib/python3.7/site-packages/sklearn/utils/validation.py:475: DataConversionWarning: Data with input dtype int64 was converted to float64 by MinMaxScaler.\n",
      "  warnings.warn(msg, DataConversionWarning)\n"
=======
      "C:\\Users\\liushuwei\\Anaconda3\\envs\\python36\\lib\\site-packages\\sklearn\\utils\\validation.py:429: DataConversionWarning: Data with input dtype int32 was converted to float64 by MinMaxScaler.\n",
      "  warnings.warn(msg, _DataConversionWarning)\n"
>>>>>>> add data preprocessing
     ]
    },
    {
     "data": {
      "text/plain": [
       "array([[0.33333333, 0.        , 1.        ],\n",
       "       [1.        , 0.66666667, 0.5       ],\n",
       "       [0.        , 1.        , 0.        ]])"
      ]
     },
<<<<<<< 935471a407c90d674fc0dde301001ff654516888
     "execution_count": 7,
=======
     "execution_count": 13,
>>>>>>> add data preprocessing
     "metadata": {},
     "output_type": "execute_result"
    }
   ],
   "source": [
    "min_max_scaler = preprocessing.MinMaxScaler()\n",
    "X_min_max = min_max_scaler.fit_transform(X)\n",
    "X_min_max"
   ]
  },
  {
   "cell_type": "code",
<<<<<<< 935471a407c90d674fc0dde301001ff654516888
   "execution_count": null,
   "metadata": {},
   "outputs": [],
   "source": [
    "min_max_scaler"
=======
   "execution_count": 14,
   "metadata": {},
   "outputs": [
    {
     "name": "stderr",
     "output_type": "stream",
     "text": [
      "C:\\Users\\liushuwei\\Anaconda3\\envs\\python36\\lib\\site-packages\\sklearn\\utils\\validation.py:429: DataConversionWarning: Data with input dtype int32 was converted to float64 by MinMaxScaler.\n",
      "  warnings.warn(msg, _DataConversionWarning)\n"
     ]
    },
    {
     "data": {
      "text/plain": [
       "array([[ -3.33333333, -10.        ,  10.        ],\n",
       "       [ 10.        ,   3.33333333,   0.        ],\n",
       "       [-10.        ,  10.        , -10.        ]])"
      ]
     },
     "execution_count": 14,
     "metadata": {},
     "output_type": "execute_result"
    }
   ],
   "source": [
    "min_max_scaler = preprocessing.MinMaxScaler(feature_range=(-10, 10))\n",
    "X_min_max2 = min_max_scaler.fit_transform(X)\n",
    "X_min_max2"
   ]
  },
  {
   "cell_type": "markdown",
   "metadata": {},
   "source": [
    "Binarizing features 二值化特征"
   ]
  },
  {
   "cell_type": "code",
   "execution_count": 15,
   "metadata": {},
   "outputs": [
    {
     "data": {
      "text/plain": [
       "array([[ 1, -2,  1],\n",
       "       [ 3,  0,  0],\n",
       "       [ 0,  1, -1]])"
      ]
     },
     "execution_count": 15,
     "metadata": {},
     "output_type": "execute_result"
    }
   ],
   "source": [
    "X"
   ]
  },
  {
   "cell_type": "code",
   "execution_count": 17,
   "metadata": {},
   "outputs": [
    {
     "data": {
      "text/plain": [
       "array([[1, 0, 1],\n",
       "       [1, 0, 0],\n",
       "       [0, 1, 0]])"
      ]
     },
     "execution_count": 17,
     "metadata": {},
     "output_type": "execute_result"
    }
   ],
   "source": [
    "binarizer = preprocessing.Binarizer(threshold=0.5)\n",
    "X_binarized = binarizer.transform(X)\n",
    "X_binarized"
   ]
  },
  {
   "cell_type": "markdown",
   "metadata": {},
   "source": [
    "impute missing values"
   ]
  },
  {
   "cell_type": "code",
   "execution_count": 18,
   "metadata": {},
   "outputs": [
    {
     "data": {
      "text/plain": [
       "array([[ 1., -2.,  1.],\n",
       "       [ 3.,  0.,  0.],\n",
       "       [ 0.,  1., -1.]])"
      ]
     },
     "execution_count": 18,
     "metadata": {},
     "output_type": "execute_result"
    }
   ],
   "source": [
    "from sklearn.preprocessing import Imputer\n",
    "imp = Imputer(strategy='mean')\n",
    "X2 = imp.fit_transform(X)\n",
    "X2"
   ]
  },
  {
   "cell_type": "code",
   "execution_count": 20,
   "metadata": {
    "collapsed": true
   },
   "outputs": [],
   "source": [
    "from numpy import nan\n",
    "X = np.array([[ nan, 0,   3  ],\n",
    "              [ 2,   9,  -8  ],\n",
    "              [ 1,   nan, 1  ],\n",
    "              [ 5,   2,   4  ],\n",
    "              [ 7,   6,  -3  ]])"
   ]
  },
  {
   "cell_type": "code",
   "execution_count": 21,
   "metadata": {},
   "outputs": [
    {
     "data": {
      "text/plain": [
       "array([[ 3.75,  0.  ,  3.  ],\n",
       "       [ 2.  ,  9.  , -8.  ],\n",
       "       [ 1.  ,  4.25,  1.  ],\n",
       "       [ 5.  ,  2.  ,  4.  ],\n",
       "       [ 7.  ,  6.  , -3.  ]])"
      ]
     },
     "execution_count": 21,
     "metadata": {},
     "output_type": "execute_result"
    }
   ],
   "source": [
    "imp = Imputer(strategy='mean')\n",
    "X3 = imp.fit_transform(X)\n",
    "X3"
   ]
  },
  {
   "cell_type": "code",
   "execution_count": 22,
   "metadata": {},
   "outputs": [
    {
     "data": {
      "text/plain": [
       "3.75"
      ]
     },
     "execution_count": 22,
     "metadata": {},
     "output_type": "execute_result"
    }
   ],
   "source": [
    "np.mean(X[1:, 0])"
   ]
  },
  {
   "cell_type": "markdown",
   "metadata": {},
   "source": [
    "axis的序列就是维度的顺序，"
>>>>>>> add data preprocessing
   ]
  }
 ],
 "metadata": {
  "kernelspec": {
   "display_name": "Python 3",
   "language": "python",
   "name": "python3"
  },
  "language_info": {
   "codemirror_mode": {
    "name": "ipython",
    "version": 3
   },
   "file_extension": ".py",
   "mimetype": "text/x-python",
   "name": "python",
   "nbconvert_exporter": "python",
   "pygments_lexer": "ipython3",
<<<<<<< 935471a407c90d674fc0dde301001ff654516888
   "version": "3.7.0"
=======
   "version": "3.6.1"
>>>>>>> add data preprocessing
  }
 },
 "nbformat": 4,
 "nbformat_minor": 2
}
